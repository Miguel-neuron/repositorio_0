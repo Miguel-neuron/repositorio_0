{
 "cells": [
  {
   "cell_type": "code",
   "execution_count": 5,
   "id": "bedb53e3-6cf4-4f9a-b947-00efc17765f4",
   "metadata": {},
   "outputs": [],
   "source": [
    "class numero:\n",
    "    def __init__(self,a):\n",
    "        self.a = a\n",
    "    def par(self):\n",
    "        #T = False\n",
    "        if self.a % 2 == 0:\n",
    "            #T = True\n",
    "            return \"es par\"\n",
    "        else:\n",
    "            #T = False\n",
    "            return \"es impar\""
   ]
  },
  {
   "cell_type": "code",
   "execution_count": 10,
   "id": "2e2fbfeb-fe93-4f2e-87c1-31421bf2e3e5",
   "metadata": {},
   "outputs": [
    {
     "data": {
      "text/plain": [
       "'es impar'"
      ]
     },
     "execution_count": 10,
     "metadata": {},
     "output_type": "execute_result"
    }
   ],
   "source": [
    "numero_  = numero(1241)\n",
    "\n",
    "numero_.par()"
   ]
  }
 ],
 "metadata": {
  "kernelspec": {
   "display_name": "Python 3 (ipykernel)",
   "language": "python",
   "name": "python3"
  },
  "language_info": {
   "codemirror_mode": {
    "name": "ipython",
    "version": 3
   },
   "file_extension": ".py",
   "mimetype": "text/x-python",
   "name": "python",
   "nbconvert_exporter": "python",
   "pygments_lexer": "ipython3",
   "version": "3.12.4"
  }
 },
 "nbformat": 4,
 "nbformat_minor": 5
}
